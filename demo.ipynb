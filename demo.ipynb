{
  "cells": [
    {
      "cell_type": "markdown",
      "metadata": {
        "id": "view-in-github",
        "colab_type": "text"
      },
      "source": [
        "<a href=\"https://colab.research.google.com/github/kadomoto/on-chip-coil-generator/blob/main/demo.ipynb\" target=\"_parent\"><img src=\"https://colab.research.google.com/assets/colab-badge.svg\" alt=\"Open In Colab\"/></a>"
      ]
    },
    {
      "cell_type": "markdown",
      "metadata": {
        "id": "HeOAMlSYKfmk"
      },
      "source": [
        "# Picture to GDS\n",
        "\n",
        "https://github.com/ourfool/picture-to-gds\n",
        "\n",
        "This is a simple script for generating GDSII layout files from image files. \n",
        "\n",
        "画像ファイルからGDSIIファイルを生成するためのスクリプトです。"
      ]
    },
    {
      "cell_type": "markdown",
      "metadata": {
        "id": "-lVTMlrXLv_x"
      },
      "source": [
        "## Setup セットアップ"
      ]
    },
    {
      "cell_type": "code",
      "execution_count": null,
      "metadata": {
        "id": "qyi4u77sMGcK"
      },
      "outputs": [],
      "source": [
        "# install prerequisites\n",
        "!pip install numpy\n",
        "!pip install opencv-python\n",
        "!pip install gdspy"
      ]
    },
    {
      "cell_type": "code",
      "execution_count": null,
      "metadata": {
        "id": "BK4gpL1zMnCI"
      },
      "outputs": [],
      "source": [
        "# clone repository\n",
        "!git clone https://github.com/ourfool/picture-to-gds\n",
        "%cd picture-to-gds"
      ]
    },
    {
      "cell_type": "code",
      "execution_count": null,
      "metadata": {
        "id": "TNzt113YLFPA"
      },
      "outputs": [],
      "source": [
        "# install gradio for UI\n",
        "!pip install gradio"
      ]
    },
    {
      "cell_type": "markdown",
      "metadata": {
        "id": "-9dIPsxDNlMC"
      },
      "source": [
        "## Demo デモ"
      ]
    },
    {
      "cell_type": "code",
      "execution_count": null,
      "metadata": {
        "id": "CtJryX0DNoQq"
      },
      "outputs": [],
      "source": [
        "import gradio as gr\n",
        "\n",
        "import picToGDS\n",
        "\n",
        "def main(fileName, sizeOfTheCell, layerNum, isDither, scale):\n",
        "    picToGDS.main(fileName, sizeOfTheCell, layerNum, isDither, scale)\n",
        "    return \"image.bmp\", \"image.gds\"\n",
        "\n",
        "demo = gr.Interface(\n",
        "    fn=main,\n",
        "    inputs=[gr.Image(type=\"filepath\"), \"number\", \"number\", \"checkbox\", \"number\"],\n",
        "    outputs=[gr.Image(type=\"filepath\"), \"file\"]\n",
        ")\n",
        "demo.launch(share=True)"
      ]
    }
  ],
  "metadata": {
    "colab": {
      "provenance": [],
      "include_colab_link": true
    },
    "kernelspec": {
      "display_name": "Python 3",
      "name": "python3"
    },
    "language_info": {
      "name": "python"
    }
  },
  "nbformat": 4,
  "nbformat_minor": 0
}